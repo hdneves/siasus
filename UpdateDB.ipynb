{
 "cells": [
  {
   "cell_type": "code",
   "execution_count": null,
   "metadata": {},
   "outputs": [],
   "source": [
    "#%run \"./constants\""
   ]
  },
  {
   "cell_type": "code",
   "execution_count": null,
   "metadata": {},
   "outputs": [],
   "source": [
    "#%run \"./string_connection\""
   ]
  },
  {
   "cell_type": "code",
   "execution_count": null,
   "metadata": {},
   "outputs": [],
   "source": [
    "#%run \"./ConcatDF\""
   ]
  },
  {
   "cell_type": "code",
   "execution_count": null,
   "metadata": {},
   "outputs": [],
   "source": [
    "from sqlalchemy import create_engine\n",
    "import pyodbc\n",
    "import pandas as pd\n",
    "\n",
    "def update_data_sql(\n",
    "        dataframe: pd.DataFrame,\n",
    "        table_name: str = 'SUS_SIASUS',\n",
    "        string_connection: tuple = STRING_CONNECTION,\n",
    "        query_del: str = QUERY_SQL\n",
    ") -> None:\n",
    "    \n",
    "    \"\"\"\n",
    "        Updates a SQL table with data from a pandas DataFrame.\n",
    "\n",
    "        This function connects to a database using a provided connection string, converts a pandas DataFrame to a SQL table, and then closes the connection.\n",
    "\n",
    "        Args:\n",
    "            dataframe (pd.DataFrame): The pandas DataFrame that contains the data to be added to the SQL table.\n",
    "            table_name (str): The name of the SQL table that will be updated. The default value is 'SUS_SIASUS'.\n",
    "            string_connection (tuple): A tuple containing the necessary information to connect to the database. The default value is STRING_CONNECTION.\n",
    "\n",
    "        Returns:\n",
    "            None\n",
    "\n",
    "        Example:\n",
    "            Here is an example of how to use this function::\n",
    "\n",
    "                update_data_sql(dataframe=df, table_name=\"my_table\", string_connection=(\"server\", \"database\", \"username\", \"password\"))\n",
    "    \"\"\"\n",
    "    try:\n",
    "        #logger.info('Connecting with databse.')\n",
    "        conn = pyodbc.connect(string_connection)\n",
    "        conn.execute(query_del)\n",
    "        #logger.info('Database has been deleted.')\n",
    "        conn.commit()\n",
    "\n",
    "        #Convert the dataframe to a sql table\n",
    "        engine = create_engine('mssql+pyodbc:///?odbc_connect={}'.format(string_connection))\n",
    "        dataframe.to_sql(table_name, engine, if_exists='append', index=False)#, chunksize=5000)\n",
    "        #logger.info('Databsae has been updated.')\n",
    "        conn.close()\n",
    "    except Exception as e:\n",
    "        print(f'Caught an error: {e}')"
   ]
  },
  {
   "cell_type": "code",
   "execution_count": null,
   "metadata": {},
   "outputs": [],
   "source": [
    "update_data_sql(dataframe=dataframe)"
   ]
  }
 ],
 "metadata": {
  "language_info": {
   "name": "python"
  }
 },
 "nbformat": 4,
 "nbformat_minor": 2
}
