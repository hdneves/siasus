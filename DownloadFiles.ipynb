{
 "cells": [
  {
   "cell_type": "code",
   "execution_count": null,
   "metadata": {},
   "outputs": [],
   "source": [
    "%run \"./constants\""
   ]
  },
  {
   "cell_type": "code",
   "execution_count": null,
   "metadata": {},
   "outputs": [],
   "source": [
    "from pysus.online_data.SIA import download, show_datatypes\n",
    "from datetime import datetime\n",
    "from dateutil.relativedelta import relativedelta\n",
    "#from sqlalchemy import create_engine\n",
    "from joblib import Parallel, delayed\n",
    "\n",
    "def download_files(\n",
    "        #logger:logging.Logger,\n",
    "        month_range: int = 7,\n",
    "        num_months_ago: int = 3,\n",
    "        id_acronym: str = 'PA',\n",
    "        download_dir: str = DIR_DOWNLOAD,\n",
    "        states: list = STATES\n",
    "        ) -> None:\n",
    "    \n",
    "    \"\"\"\n",
    "        Downloads files for a range of months for specified states.\n",
    "\n",
    "        This function calculates a range of months from the current date, and then downloads the corresponding files for each state in the provided list. The files are downloaded to a specified directory.\n",
    "\n",
    "        Args:\n",
    "            month_range (int): The number of months to include in the range. The default value is 6.\n",
    "            num_months_ago (int): The number of months ago to start the range from. The default value is 3.\n",
    "            id_acronym (str): The acronym for the group of files to download. The default value is 'PA'.\n",
    "            download_dir (str): The directory where the downloaded files will be stored. The default value is DIR_DOWNLOAD.\n",
    "            states (list): A list of states(UF) for which files will be downloaded. The default value is STATES.\n",
    "\n",
    "        Returns:\n",
    "            None\n",
    "\n",
    "        Example:\n",
    "            Here is an example of how to use this function::\n",
    "\n",
    "                _download_files(month_range=6, num_months_ago=3, id_acronym='PA', download_dir='my_directory', states=['UF1', 'UF2'])\n",
    "    \"\"\"\n",
    "\n",
    "    current_date = datetime.now().replace(day=1) - relativedelta(months=num_months_ago)\n",
    "    print('current_date2', current_date)\n",
    "    print('Downloading...')\n",
    "    last_six_months = [current_date - relativedelta(months=i) for i in range(month_range)]\n",
    "\n",
    "    print(last_six_months)\n",
    "\n",
    "    def download_by_uf(uf):\n",
    "        for month in last_six_months:\n",
    "            year = month.year\n",
    "            month_num = month.month\n",
    "            #logger.info(f'Year-Month: {year}-{month_num}')\n",
    "            download(states=uf, years=year, months=month_num, group=id_acronym, data_dir=download_dir)\n",
    "    \n",
    "    Parallel(n_jobs=6)(delayed(download_by_uf)(uf) for uf in states)\n",
    "    \n",
    "    print('Downloaded')"
   ]
  },
  {
   "cell_type": "code",
   "execution_count": null,
   "metadata": {},
   "outputs": [],
   "source": [
    "download_files()"
   ]
  }
 ],
 "metadata": {
  "language_info": {
   "name": "python"
  }
 },
 "nbformat": 4,
 "nbformat_minor": 2
}
