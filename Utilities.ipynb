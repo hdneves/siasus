{
 "cells": [
  {
   "cell_type": "code",
   "execution_count": null,
   "metadata": {},
   "outputs": [],
   "source": [
    "import logging\n",
    "\n",
    "def configure_logging() -> logging:\n",
    "    \"\"\"\n",
    "        Configures the logging settings for the application.\n",
    "\n",
    "        The function sets up a basic configuration for logging to a file named 'app.log'.\n",
    "        It configures the logging level to DEBUG and uses a specific format for log messages.\n",
    "\n",
    "        Returns:\n",
    "            logging.Logger: The configured logger.\n",
    "\n",
    "        Example:\n",
    "            logger = configure_logging()    \n",
    "            logger.debug('Debug message')\n",
    "            logger.info('Information message')\n",
    "            logger.warning('Warning message')\n",
    "            logger.error('Error message')\n",
    "            logger.critical('Critical message')\n",
    "    \"\"\"\n",
    "    logging.basicConfig(filename='app.log', level=logging.DEBUG,\n",
    "                        format='%(asctime)s - %(levelname)s - %(message)s')\n",
    "\n",
    "    #Obtém o logger padrão\n",
    "    logger = logging.getLogger(__name__)\n",
    "    return logger\n",
    "\n",
    "def delete_files(\n",
    "        download_dir: str = DIR_DOWNLOAD\n",
    ") -> None:\n",
    "    \n",
    "    \"\"\"\n",
    "        Recursively removes all files and folders within the specified directory.\n",
    "\n",
    "        Args:\n",
    "            download_dir (str): The path of the directory to be cleaned. Default is DIR_DOWNLOAD.\n",
    "\n",
    "        Retuns:\n",
    "            None\n",
    "\n",
    "        Example:\n",
    "            delete_files('/path/to/directory')\n",
    "        \n",
    "    \"\"\"\n",
    "    for folder in os.listdir(download_dir):\n",
    "        folder_path = os.path.join(download_dir, folder)\n",
    "        shutil.rmtree(folder_path)\n",
    "\n",
    "    #print(\"Todas as pastas foram excluídas, incluindo arquivos e subdiretórios.\")"
   ]
  }
 ],
 "metadata": {
  "language_info": {
   "name": "python"
  }
 },
 "nbformat": 4,
 "nbformat_minor": 2
}
